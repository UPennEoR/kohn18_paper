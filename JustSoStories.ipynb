{
 "cells": [
  {
   "cell_type": "code",
   "execution_count": 1,
   "metadata": {},
   "outputs": [],
   "source": [
    "import numpy as np"
   ]
  },
  {
   "cell_type": "code",
   "execution_count": 3,
   "metadata": {},
   "outputs": [],
   "source": [
    "P = {}\n",
    "pols = ['I','Q','U','V']\n",
    "bands = ['hi','lo']\n",
    "rs = ['r','s']\n",
    "for pol in pols:\n",
    "    P[pol] = {}\n",
    "    for band in bands:\n",
    "        P[pol][band] = {}\n",
    "        for r in rs:\n",
    "            P[pol][band][r] = 0.0"
   ]
  },
  {
   "cell_type": "code",
   "execution_count": 4,
   "metadata": {},
   "outputs": [
    {
     "data": {
      "text/plain": [
       "0.0"
      ]
     },
     "execution_count": 4,
     "metadata": {},
     "output_type": "execute_result"
    }
   ],
   "source": [
    "P['I']['hi']['r']"
   ]
  },
  {
   "cell_type": "code",
   "execution_count": 13,
   "metadata": {},
   "outputs": [],
   "source": [
    "P['I']['hi']['r'] = 1.16e18\n",
    "P['Q']['hi']['r'] = 2.68e16\n",
    "P['U']['hi']['r'] = 9.67e15\n",
    "P['V']['hi']['r'] = 4.75e15"
   ]
  },
  {
   "cell_type": "code",
   "execution_count": 14,
   "metadata": {},
   "outputs": [],
   "source": [
    "P['I']['hi']['s'] = 1.16e18\n",
    "P['Q']['hi']['s'] = 3.83e15\n",
    "P['U']['hi']['s'] = 3.14e15\n",
    "P['V']['hi']['s'] = 6.57e12"
   ]
  },
  {
   "cell_type": "code",
   "execution_count": 15,
   "metadata": {},
   "outputs": [],
   "source": [
    "P['I']['lo']['r'] = 1.37e19\n",
    "P['Q']['lo']['r'] = 3.2e17\n",
    "P['U']['lo']['r'] = 2.21e17\n",
    "P['V']['lo']['r'] = 1.27e17"
   ]
  },
  {
   "cell_type": "code",
   "execution_count": 27,
   "metadata": {},
   "outputs": [],
   "source": [
    "P['I']['lo']['s'] = 9.61e18\n",
    "P['Q']['lo']['s'] = 2.55e16\n",
    "P['U']['lo']['s'] = 4.57e15\n",
    "P['V']['lo']['s'] = 3.95e12\n",
    "if True:\n",
    "    for pol in pols:\n",
    "        P[pol]['lo']['s'] = P[pol]['lo']['s'] * 1.37e19/9.61e18"
   ]
  },
  {
   "cell_type": "code",
   "execution_count": 28,
   "metadata": {},
   "outputs": [
    {
     "name": "stdout",
     "output_type": "stream",
     "text": [
      "hi band\n",
      "I real / sim 1.000\n",
      "pol frac from U 0.075\n",
      "gain error from Q/U difference 0.119\n",
      "D term from V/I 0.064\n",
      "\n",
      "lo band\n",
      "I real / sim 1.000\n",
      "pol frac from U 0.125\n",
      "gain error from Q/U difference 0.071\n",
      "D term from V/I 0.096\n",
      "\n"
     ]
    }
   ],
   "source": [
    "for band in bands:\n",
    "    print(band + ' band')\n",
    "    print('I real / sim %.3f' % np.sqrt(P['I'][band]['r']/P['I'][band]['s']))\n",
    "    print('pol frac from U %.3f' % \n",
    "          np.sqrt((P['U'][band]['r']-P['U'][band]['s'])/P['I'][band]['s']))\n",
    "    print('gain error from Q/U difference %.3f' % \n",
    "          np.sqrt((P['Q'][band]['r']-P['Q'][band]['s'] -\n",
    "                  (P['U'][band]['r']-P['U'][band]['s']))/P['I'][band]['s']))\n",
    "    print('D term from V/I %.3f' % \n",
    "          np.sqrt((P['V'][band]['r']-P['V'][band]['s'])/P['I'][band]['s']))\n",
    "    print()"
   ]
  },
  {
   "cell_type": "code",
   "execution_count": 12,
   "metadata": {},
   "outputs": [
    {
     "data": {
      "text/plain": [
       "0.0"
      ]
     },
     "execution_count": 12,
     "metadata": {},
     "output_type": "execute_result"
    }
   ],
   "source": [
    "P['I'][band]['s']"
   ]
  },
  {
   "cell_type": "code",
   "execution_count": null,
   "metadata": {},
   "outputs": [],
   "source": []
  }
 ],
 "metadata": {
  "kernelspec": {
   "display_name": "Python 3",
   "language": "python",
   "name": "python3"
  },
  "language_info": {
   "codemirror_mode": {
    "name": "ipython",
    "version": 3
   },
   "file_extension": ".py",
   "mimetype": "text/x-python",
   "name": "python",
   "nbconvert_exporter": "python",
   "pygments_lexer": "ipython3",
   "version": "3.7.1"
  }
 },
 "nbformat": 4,
 "nbformat_minor": 2
}
